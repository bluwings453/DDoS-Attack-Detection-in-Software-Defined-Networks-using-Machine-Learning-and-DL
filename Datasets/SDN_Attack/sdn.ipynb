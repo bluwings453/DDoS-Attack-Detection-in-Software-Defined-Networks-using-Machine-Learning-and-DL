{
 "cells": [
  {
   "cell_type": "code",
   "execution_count": 1,
   "metadata": {
    "executionInfo": {
     "elapsed": 372,
     "status": "ok",
     "timestamp": 1638313229700,
     "user": {
      "displayName": "swathi s",
      "photoUrl": "https://lh3.googleusercontent.com/a/default-user=s64",
      "userId": "10338569286516290224"
     },
     "user_tz": -330
    },
    "id": "9147b881"
   },
   "outputs": [],
   "source": [
    "# importing various package\n",
    "import pandas as pd\n",
    "import numpy as np\n",
    "import matplotlib.pyplot as plt\n",
    "from sklearn import preprocessing"
   ]
  },
  {
   "cell_type": "code",
   "execution_count": 2,
   "metadata": {
    "executionInfo": {
     "elapsed": 399,
     "status": "ok",
     "timestamp": 1638313285615,
     "user": {
      "displayName": "swathi s",
      "photoUrl": "https://lh3.googleusercontent.com/a/default-user=s64",
      "userId": "10338569286516290224"
     },
     "user_tz": -330
    },
    "id": "b4d8bb35"
   },
   "outputs": [],
   "source": [
    "# making data frame from csv file\n",
    "sdn = pd.read_csv(\"dataset_sdn_Attack.csv\")"
   ]
  },
  {
   "cell_type": "code",
   "execution_count": 3,
   "metadata": {
    "colab": {
     "base_uri": "https://localhost:8080/"
    },
    "executionInfo": {
     "elapsed": 391,
     "status": "ok",
     "timestamp": 1638313287911,
     "user": {
      "displayName": "swathi s",
      "photoUrl": "https://lh3.googleusercontent.com/a/default-user=s64",
      "userId": "10338569286516290224"
     },
     "user_tz": -330
    },
    "id": "29f8cc61",
    "outputId": "189eaaac-d890-4c02-dbdd-5aaf70da21a9"
   },
   "outputs": [
    {
     "data": {
      "text/plain": [
       "Index(['dt', 'switch', 'src', 'dst', 'pktcount', 'bytecount', 'dur',\n",
       "       'dur_nsec', 'tot_dur', 'flows', 'packetins', 'pktperflow',\n",
       "       'byteperflow', 'pktrate', 'Pairflow', 'Protocol', 'port_no', 'tx_bytes',\n",
       "       'rx_bytes', 'tx_kbps', 'rx_kbps', 'A1', 'A2', 'tot_kbps', 'label'],\n",
       "      dtype='object')"
      ]
     },
     "execution_count": 3,
     "metadata": {},
     "output_type": "execute_result"
    }
   ],
   "source": [
    "sdn.columns"
   ]
  },
  {
   "cell_type": "code",
   "execution_count": 4,
   "metadata": {
    "colab": {
     "base_uri": "https://localhost:8080/"
    },
    "executionInfo": {
     "elapsed": 388,
     "status": "ok",
     "timestamp": 1638313294740,
     "user": {
      "displayName": "swathi s",
      "photoUrl": "https://lh3.googleusercontent.com/a/default-user=s64",
      "userId": "10338569286516290224"
     },
     "user_tz": -330
    },
    "id": "a6ef7bd4",
    "outputId": "a172c002-c3ee-44b9-db2f-0743c0f35dbe"
   },
   "outputs": [
    {
     "data": {
      "text/plain": [
       "1    40784\n",
       "Name: label, dtype: int64"
      ]
     },
     "execution_count": 4,
     "metadata": {},
     "output_type": "execute_result"
    }
   ],
   "source": [
    "sdn['label'].value_counts()"
   ]
  },
  {
   "cell_type": "code",
   "execution_count": 5,
   "metadata": {
    "executionInfo": {
     "elapsed": 3,
     "status": "ok",
     "timestamp": 1638313296584,
     "user": {
      "displayName": "swathi s",
      "photoUrl": "https://lh3.googleusercontent.com/a/default-user=s64",
      "userId": "10338569286516290224"
     },
     "user_tz": -330
    },
    "id": "6524a1dc"
   },
   "outputs": [],
   "source": [
    "sdn_filter = sdn.isin([np.nan, np.inf, -np.inf])\n",
    "# Mask df with the filter\n",
    "sdn= sdn[~sdn_filter]\n",
    "sdn.dropna(inplace=True)"
   ]
  },
  {
   "cell_type": "code",
   "execution_count": 6,
   "metadata": {
    "executionInfo": {
     "elapsed": 1,
     "status": "ok",
     "timestamp": 1638313298469,
     "user": {
      "displayName": "swathi s",
      "photoUrl": "https://lh3.googleusercontent.com/a/default-user=s64",
      "userId": "10338569286516290224"
     },
     "user_tz": -330
    },
    "id": "a6cde2a3"
   },
   "outputs": [],
   "source": [
    "sdn.replace([np.inf, -np.inf], np.nan, inplace=True)"
   ]
  },
  {
   "cell_type": "markdown",
   "id": "8b5fc69b",
   "metadata": {},
   "source": []
  },
  {
   "cell_type": "code",
   "execution_count": 7,
   "metadata": {
    "executionInfo": {
     "elapsed": 590,
     "status": "ok",
     "timestamp": 1638313301067,
     "user": {
      "displayName": "swathi s",
      "photoUrl": "https://lh3.googleusercontent.com/a/default-user=s64",
      "userId": "10338569286516290224"
     },
     "user_tz": -330
    },
    "id": "b92c5068"
   },
   "outputs": [],
   "source": [
    "sdn.dropna(inplace=True)"
   ]
  },
  {
   "cell_type": "code",
   "execution_count": 8,
   "metadata": {
    "colab": {
     "base_uri": "https://localhost:8080/"
    },
    "executionInfo": {
     "elapsed": 9,
     "status": "ok",
     "timestamp": 1638313302130,
     "user": {
      "displayName": "swathi s",
      "photoUrl": "https://lh3.googleusercontent.com/a/default-user=s64",
      "userId": "10338569286516290224"
     },
     "user_tz": -330
    },
    "id": "672cb463",
    "outputId": "67a5f7a6-e1fa-41b1-b344-54db85b69749"
   },
   "outputs": [
    {
     "data": {
      "text/plain": [
       "(40504, 25)"
      ]
     },
     "execution_count": 8,
     "metadata": {},
     "output_type": "execute_result"
    }
   ],
   "source": [
    "sdn.shape"
   ]
  },
  {
   "cell_type": "code",
   "execution_count": 9,
   "metadata": {
    "executionInfo": {
     "elapsed": 1,
     "status": "ok",
     "timestamp": 1638313304737,
     "user": {
      "displayName": "swathi s",
      "photoUrl": "https://lh3.googleusercontent.com/a/default-user=s64",
      "userId": "10338569286516290224"
     },
     "user_tz": -330
    },
    "id": "b1f3a27d"
   },
   "outputs": [],
   "source": [
    "sdn.replace({1:0},inplace=True)"
   ]
  },
  {
   "cell_type": "code",
   "execution_count": 10,
   "metadata": {
    "executionInfo": {
     "elapsed": 635,
     "status": "ok",
     "timestamp": 1638313334396,
     "user": {
      "displayName": "swathi s",
      "photoUrl": "https://lh3.googleusercontent.com/a/default-user=s64",
      "userId": "10338569286516290224"
     },
     "user_tz": -330
    },
    "id": "8e3bc54a"
   },
   "outputs": [],
   "source": [
    "X_sdn=sdn.drop('label',axis=1)\n",
    "normalized_sdn = pd.DataFrame(preprocessing.normalize(X_sdn)*255)\n",
    "normalized_sdn['label']=sdn['label']"
   ]
  },
  {
   "cell_type": "code",
   "execution_count": 11,
   "metadata": {
    "executionInfo": {
     "elapsed": 378,
     "status": "ok",
     "timestamp": 1638313336943,
     "user": {
      "displayName": "swathi s",
      "photoUrl": "https://lh3.googleusercontent.com/a/default-user=s64",
      "userId": "10338569286516290224"
     },
     "user_tz": -330
    },
    "id": "afaffd23"
   },
   "outputs": [],
   "source": [
    "normalized_sdn.dropna(inplace=True)"
   ]
  },
  {
   "cell_type": "code",
   "execution_count": 12,
   "metadata": {
    "executionInfo": {
     "elapsed": 2,
     "status": "ok",
     "timestamp": 1638313340268,
     "user": {
      "displayName": "swathi s",
      "photoUrl": "https://lh3.googleusercontent.com/a/default-user=s64",
      "userId": "10338569286516290224"
     },
     "user_tz": -330
    },
    "id": "5b47c221"
   },
   "outputs": [],
   "source": [
    "normalized_sdn=normalized_sdn.astype(int)"
   ]
  },
  {
   "cell_type": "code",
   "execution_count": 13,
   "metadata": {
    "colab": {
     "base_uri": "https://localhost:8080/",
     "height": 206
    },
    "executionInfo": {
     "elapsed": 412,
     "status": "ok",
     "timestamp": 1638313343429,
     "user": {
      "displayName": "swathi s",
      "photoUrl": "https://lh3.googleusercontent.com/a/default-user=s64",
      "userId": "10338569286516290224"
     },
     "user_tz": -330
    },
    "id": "652f4a8c",
    "outputId": "351c5f8a-f4e3-4443-d2c9-0f30e99a2746"
   },
   "outputs": [
    {
     "data": {
      "text/html": [
       "<div>\n",
       "<style scoped>\n",
       "    .dataframe tbody tr th:only-of-type {\n",
       "        vertical-align: middle;\n",
       "    }\n",
       "\n",
       "    .dataframe tbody tr th {\n",
       "        vertical-align: top;\n",
       "    }\n",
       "\n",
       "    .dataframe thead th {\n",
       "        text-align: right;\n",
       "    }\n",
       "</style>\n",
       "<table border=\"1\" class=\"dataframe\">\n",
       "  <thead>\n",
       "    <tr style=\"text-align: right;\">\n",
       "      <th></th>\n",
       "      <th>0</th>\n",
       "      <th>1</th>\n",
       "      <th>2</th>\n",
       "      <th>3</th>\n",
       "      <th>4</th>\n",
       "      <th>5</th>\n",
       "      <th>6</th>\n",
       "      <th>7</th>\n",
       "      <th>8</th>\n",
       "      <th>9</th>\n",
       "      <th>...</th>\n",
       "      <th>15</th>\n",
       "      <th>16</th>\n",
       "      <th>17</th>\n",
       "      <th>18</th>\n",
       "      <th>19</th>\n",
       "      <th>20</th>\n",
       "      <th>21</th>\n",
       "      <th>22</th>\n",
       "      <th>23</th>\n",
       "      <th>label</th>\n",
       "    </tr>\n",
       "  </thead>\n",
       "  <tbody>\n",
       "    <tr>\n",
       "      <th>0</th>\n",
       "      <td>0</td>\n",
       "      <td>0</td>\n",
       "      <td>3</td>\n",
       "      <td>3</td>\n",
       "      <td>0</td>\n",
       "      <td>0</td>\n",
       "      <td>0</td>\n",
       "      <td>16</td>\n",
       "      <td>254</td>\n",
       "      <td>0</td>\n",
       "      <td>...</td>\n",
       "      <td>0</td>\n",
       "      <td>0</td>\n",
       "      <td>0</td>\n",
       "      <td>0</td>\n",
       "      <td>0</td>\n",
       "      <td>0</td>\n",
       "      <td>0</td>\n",
       "      <td>0</td>\n",
       "      <td>0</td>\n",
       "      <td>0</td>\n",
       "    </tr>\n",
       "    <tr>\n",
       "      <th>1</th>\n",
       "      <td>0</td>\n",
       "      <td>0</td>\n",
       "      <td>3</td>\n",
       "      <td>3</td>\n",
       "      <td>0</td>\n",
       "      <td>0</td>\n",
       "      <td>0</td>\n",
       "      <td>16</td>\n",
       "      <td>254</td>\n",
       "      <td>0</td>\n",
       "      <td>...</td>\n",
       "      <td>0</td>\n",
       "      <td>0</td>\n",
       "      <td>0</td>\n",
       "      <td>1</td>\n",
       "      <td>0</td>\n",
       "      <td>0</td>\n",
       "      <td>0</td>\n",
       "      <td>0</td>\n",
       "      <td>0</td>\n",
       "      <td>0</td>\n",
       "    </tr>\n",
       "    <tr>\n",
       "      <th>2</th>\n",
       "      <td>0</td>\n",
       "      <td>0</td>\n",
       "      <td>3</td>\n",
       "      <td>3</td>\n",
       "      <td>0</td>\n",
       "      <td>0</td>\n",
       "      <td>0</td>\n",
       "      <td>16</td>\n",
       "      <td>254</td>\n",
       "      <td>0</td>\n",
       "      <td>...</td>\n",
       "      <td>0</td>\n",
       "      <td>0</td>\n",
       "      <td>0</td>\n",
       "      <td>0</td>\n",
       "      <td>0</td>\n",
       "      <td>0</td>\n",
       "      <td>0</td>\n",
       "      <td>0</td>\n",
       "      <td>0</td>\n",
       "      <td>0</td>\n",
       "    </tr>\n",
       "    <tr>\n",
       "      <th>3</th>\n",
       "      <td>0</td>\n",
       "      <td>0</td>\n",
       "      <td>3</td>\n",
       "      <td>3</td>\n",
       "      <td>0</td>\n",
       "      <td>0</td>\n",
       "      <td>0</td>\n",
       "      <td>16</td>\n",
       "      <td>254</td>\n",
       "      <td>0</td>\n",
       "      <td>...</td>\n",
       "      <td>0</td>\n",
       "      <td>0</td>\n",
       "      <td>1</td>\n",
       "      <td>0</td>\n",
       "      <td>0</td>\n",
       "      <td>0</td>\n",
       "      <td>0</td>\n",
       "      <td>0</td>\n",
       "      <td>0</td>\n",
       "      <td>0</td>\n",
       "    </tr>\n",
       "    <tr>\n",
       "      <th>4</th>\n",
       "      <td>0</td>\n",
       "      <td>0</td>\n",
       "      <td>3</td>\n",
       "      <td>3</td>\n",
       "      <td>0</td>\n",
       "      <td>0</td>\n",
       "      <td>0</td>\n",
       "      <td>16</td>\n",
       "      <td>254</td>\n",
       "      <td>0</td>\n",
       "      <td>...</td>\n",
       "      <td>0</td>\n",
       "      <td>0</td>\n",
       "      <td>0</td>\n",
       "      <td>0</td>\n",
       "      <td>0</td>\n",
       "      <td>0</td>\n",
       "      <td>0</td>\n",
       "      <td>0</td>\n",
       "      <td>0</td>\n",
       "      <td>0</td>\n",
       "    </tr>\n",
       "  </tbody>\n",
       "</table>\n",
       "<p>5 rows × 25 columns</p>\n",
       "</div>"
      ],
      "text/plain": [
       "   0  1  2  3  4  5  6   7    8  9  ...  15  16  17  18  19  20  21  22  23  \\\n",
       "0  0  0  3  3  0  0  0  16  254  0  ...   0   0   0   0   0   0   0   0   0   \n",
       "1  0  0  3  3  0  0  0  16  254  0  ...   0   0   0   1   0   0   0   0   0   \n",
       "2  0  0  3  3  0  0  0  16  254  0  ...   0   0   0   0   0   0   0   0   0   \n",
       "3  0  0  3  3  0  0  0  16  254  0  ...   0   0   1   0   0   0   0   0   0   \n",
       "4  0  0  3  3  0  0  0  16  254  0  ...   0   0   0   0   0   0   0   0   0   \n",
       "\n",
       "   label  \n",
       "0      0  \n",
       "1      0  \n",
       "2      0  \n",
       "3      0  \n",
       "4      0  \n",
       "\n",
       "[5 rows x 25 columns]"
      ]
     },
     "execution_count": 13,
     "metadata": {},
     "output_type": "execute_result"
    }
   ],
   "source": [
    "normalized_sdn.head()"
   ]
  },
  {
   "cell_type": "code",
   "execution_count": 14,
   "metadata": {
    "executionInfo": {
     "elapsed": 1040,
     "status": "ok",
     "timestamp": 1638313348652,
     "user": {
      "displayName": "swathi s",
      "photoUrl": "https://lh3.googleusercontent.com/a/default-user=s64",
      "userId": "10338569286516290224"
     },
     "user_tz": -330
    },
    "id": "8ceecbf9"
   },
   "outputs": [],
   "source": [
    "normalized_sdn.to_csv('sdn.csv')"
   ]
  },
  {
   "cell_type": "code",
   "execution_count": 15,
   "metadata": {
    "id": "nSNCS2Ab367R"
   },
   "outputs": [],
   "source": [
    "import numpy as np\n",
    "import csv\n",
    "from PIL import Image\n",
    "\n",
    "import pandas as pd"
   ]
  },
  {
   "cell_type": "code",
   "execution_count": 16,
   "metadata": {
    "id": "meWgcipY4AkK"
   },
   "outputs": [],
   "source": [
    "image_sdn=pd.read_csv('sdn.csv')\n"
   ]
  },
  {
   "cell_type": "code",
   "execution_count": 17,
   "metadata": {
    "id": "xo7_sRTL4H9v"
   },
   "outputs": [],
   "source": [
    "image_sdn.dropna(inplace=True)"
   ]
  },
  {
   "cell_type": "code",
   "execution_count": 18,
   "metadata": {
    "id": "98kNTyTS2RCX"
   },
   "outputs": [],
   "source": [
    "count=0\n",
    "label=0\n",
    "day='sdn'\n",
    "for i in range(len(image_sdn)):\n",
    "    row=image_sdn.loc[i]\n",
    "    pix = np.array(row[:-1], dtype='uint8')\n",
    "    pix = pix.reshape((5, 5))\n",
    "    image = Image.fromarray(pix)\n",
    "    filename = '{}{}{}.jpg'.format(day,label,count)\n",
    "    image.save(filename)\n",
    "    count+=1"
   ]
  }
 ],
 "metadata": {
  "colab": {
   "name": "sdn.ipynb",
   "provenance": [
    {
     "file_id": "1J-Wi6VrUv7eaGE-MWSTWSxcXAxpoRzOZ",
     "timestamp": 1638306232262
    }
   ]
  },
  "kernelspec": {
   "display_name": "Python 3",
   "language": "python",
   "name": "python3"
  },
  "language_info": {
   "codemirror_mode": {
    "name": "ipython",
    "version": 3
   },
   "file_extension": ".py",
   "mimetype": "text/x-python",
   "name": "python",
   "nbconvert_exporter": "python",
   "pygments_lexer": "ipython3",
   "version": "3.8.3"
  }
 },
 "nbformat": 4,
 "nbformat_minor": 5
}
